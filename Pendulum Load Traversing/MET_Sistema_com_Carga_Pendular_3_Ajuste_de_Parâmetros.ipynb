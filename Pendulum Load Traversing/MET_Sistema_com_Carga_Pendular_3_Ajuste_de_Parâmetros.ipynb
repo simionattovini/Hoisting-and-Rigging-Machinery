{
  "nbformat": 4,
  "nbformat_minor": 0,
  "metadata": {
    "colab": {
      "provenance": [],
      "authorship_tag": "ABX9TyNJRJWwINVBfEcjKIqXwkJg",
      "include_colab_link": true
    },
    "kernelspec": {
      "name": "python3",
      "display_name": "Python 3"
    },
    "language_info": {
      "name": "python"
    }
  },
  "cells": [
    {
      "cell_type": "markdown",
      "metadata": {
        "id": "view-in-github",
        "colab_type": "text"
      },
      "source": [
        "<a href=\"https://colab.research.google.com/github/simionattovini/Hoisting-and-Rigging-Machinery/blob/main/Pendulum%20Load%20Traversing/MET_Sistema_com_Carga_Pendular_3_Ajuste_de_Par%C3%A2metros.ipynb\" target=\"_parent\"><img src=\"https://colab.research.google.com/assets/colab-badge.svg\" alt=\"Open In Colab\"/></a>"
      ]
    },
    {
      "cell_type": "markdown",
      "source": [
        "Este módulo serve apenas para análise dos polos do sistema para ajuste dos parâmetros do controlador"
      ],
      "metadata": {
        "id": "MqZG6LxVDsn8"
      }
    },
    {
      "cell_type": "code",
      "execution_count": 37,
      "metadata": {
        "id": "VoHf-ycM6YGC"
      },
      "outputs": [],
      "source": [
        "# Dados do sistema:\n",
        "\n",
        "M = 200   # kg\n",
        "m = 10    # kg\n",
        "L = 10    # m\n",
        "Ig = 3    # kg.m²\n",
        "g = 9.81  # m/s²\n",
        "\n",
        "# Dados do cabo ou controlador:\n",
        "\n",
        "kc = 1500\n",
        "cc = 460\n",
        "ct = 3350\n"
      ]
    },
    {
      "cell_type": "code",
      "source": [
        "import importlib\n",
        "spec = importlib.util.find_spec('control')\n",
        "if spec is None:\n",
        "    !pip install control\n",
        "\n",
        "import numpy as np\n",
        "\n",
        "from control import StateSpace, damp\n",
        "\n",
        "\n",
        "# Matrizes do Sistema\n",
        "\n",
        "MI = np.asarray([[Ig+M*L**2, M*L], [M*L, M+m]])\n",
        "\n",
        "MC = np.asarray([[0, 0], [ct, cc]])\n",
        "MK = np.asarray([[M*g*L, 0], [0, kc]])\n",
        "\n",
        "# Para o cálculo dos autovalores, a matriz A é suficiente.\n",
        "A = np.append(np.append(np.zeros((2, 2)),\n",
        "                        np.eye(2), 1),\n",
        "              np.append(-np.linalg.inv(MI) @ MK,\n",
        "                        -np.linalg.inv(MI) @ MC, 1),\n",
        "              0)\n",
        "\n",
        "B = np.append(np.zeros((2, 1)), np.linalg.inv(MI) @ np.asarray([[0], [1]]), 0)\n",
        "\n",
        "C = np.asarray([[0, 1, 0, 0]])\n",
        "\n",
        "D = np.asarray([[0]])\n",
        "\n",
        "sys = StateSpace(A, B, C, D)\n",
        "\n",
        "_ = damp(sys)"
      ],
      "metadata": {
        "colab": {
          "base_uri": "https://localhost:8080/"
        },
        "id": "9n5be3r_66Cw",
        "outputId": "5573b975-9748-4892-a799-8cad0d0a4789"
      },
      "execution_count": 38,
      "outputs": [
        {
          "output_type": "stream",
          "name": "stdout",
          "text": [
            "    Eigenvalue (pole)       Damping     Frequency\n",
            "    -6.131    +11.36j        0.4749         12.91\n",
            "    -6.131    -11.36j        0.4749         12.91\n",
            "   -0.1026   +0.9325j        0.1093        0.9381\n",
            "   -0.1026   -0.9325j        0.1093        0.9381\n"
          ]
        }
      ]
    }
  ]
}