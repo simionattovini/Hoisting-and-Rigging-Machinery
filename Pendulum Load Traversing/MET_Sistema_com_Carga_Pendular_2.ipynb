{
  "nbformat": 4,
  "nbformat_minor": 0,
  "metadata": {
    "colab": {
      "provenance": [],
      "authorship_tag": "ABX9TyMyDILvuoZP2J9lmo1SEGI+",
      "include_colab_link": true
    },
    "kernelspec": {
      "name": "python3",
      "display_name": "Python 3"
    },
    "language_info": {
      "name": "python"
    }
  },
  "cells": [
    {
      "cell_type": "markdown",
      "metadata": {
        "id": "view-in-github",
        "colab_type": "text"
      },
      "source": [
        "<a href=\"https://colab.research.google.com/github/simionattovini/Hoisting-and-Rigging-Machinery/blob/main/Pendulum%20Load%20Traversing/MET_Sistema_com_Carga_Pendular_2.ipynb\" target=\"_parent\"><img src=\"https://colab.research.google.com/assets/colab-badge.svg\" alt=\"Open In Colab\"/></a>"
      ]
    },
    {
      "cell_type": "markdown",
      "source": [
        "# Sistema com Carga Pendular - Controle"
      ],
      "metadata": {
        "id": "9TUrSTwnRL1Y"
      }
    },
    {
      "cell_type": "markdown",
      "source": [
        "Para realizar o controle do sistema com carga pendular, podemos partir de duas abordagens equivalentes. A primeira seria imaginar um deslocamento virtual $y$, que estaria puxando o carrinho através de um cabo com rigidez e amortecimento em paralelos, de coeficientes $k_c$ e $c_c$.\n",
        "\n",
        "Neste caso, $y(t)$ passaria a ser a entrada do sistema, e as equações do sistema se tornariam:\n",
        "\n",
        "$$\n",
        "\\left[\\begin{array}{cc}\n",
        "I_g + ML^2 & ML \\\\ ML & M+m\n",
        "\\end{array}\n",
        "\\right]\n",
        "\\left\\{\n",
        "\\begin{array}{c}\n",
        "\\ddot{\\theta} \\\\ \\ddot{x}\n",
        "\\end{array}\n",
        "\\right\\}\n",
        "+\n",
        "\\left[\\begin{array}{cc}\n",
        "0 & 0 \\\\ 0 & c_c\n",
        "\\end{array}\n",
        "\\right]\n",
        "\\left\\{\n",
        "\\begin{array}{c}\n",
        "\\dot{\\theta} \\\\ \\dot{x}\n",
        "\\end{array}\n",
        "\\right\\}\n",
        "+\n",
        "\\left[\\begin{array}{cc}\n",
        "MgL & 0 \\\\ 0 & k_c\n",
        "\\end{array}\n",
        "\\right]\n",
        "\\left\\{\n",
        "\\begin{array}{c}\n",
        "\\theta \\\\ x\n",
        "\\end{array}\n",
        "\\right\\}\n",
        "=\n",
        "\\left\\{\n",
        "\\begin{array}{c}\n",
        "0 \\\\ c_c\\dot{y}(t) + k_c y(t)\n",
        "\\end{array}\n",
        "\\right\\}\n",
        "$$\n",
        "\n",
        "Uma forma alternativa, mais próxima à filosofia de controle, seria designar o sistema original na _forma completa_ de estados para controle. Nesta forma, o sistema é representado por:\n",
        "\n",
        "$$\n",
        "\\left\\{\n",
        "\\begin{array}{l}\n",
        "\\{\\dot{z}\\} = [A]\\{z\\} + [B]\\{u(t)\\} \\\\\n",
        "\\{w\\} = [C]\\{z\\} + [D]\\{u(t)\\}\n",
        "\\end{array}\n",
        "\\right.\n",
        "$$\n",
        "\n",
        "Neste caso, $\\{z\\}$ é o vetor de estados, $\\{u(t)\\}$ o vetor de entradas e $\\{w\\}$ o vetor de saídas. Além disso, $[A]$ é a matriz do sistema, $[B]$ é a matriz de entrada, $[C]$ é a matriz de saída e $[D]$ é a matriz de retroalimentação. Destas, a única matriz que depende do sistema e o representa é a matriz $[A]$. As matrizes $[B]$, $[C]$ e $[D]$ podem ser definidas arbitariamente."
      ],
      "metadata": {
        "id": "68E1yeE8Rvg4"
      }
    },
    {
      "cell_type": "markdown",
      "source": [
        "Como vamos começar colocando o sistema original na forma de estados, partiremos da equação:\n",
        "\n",
        "$$\n",
        "\\underbrace{\n",
        "\\left[\\begin{array}{cc}\n",
        "I_g + ML^2 & ML \\\\ ML & M+m\n",
        "\\end{array}\n",
        "\\right]}_{M_I}\n",
        "\\left\\{\n",
        "\\begin{array}{c}\n",
        "\\ddot{\\theta} \\\\ \\ddot{x}\n",
        "\\end{array}\n",
        "\\right\\}\n",
        "+\n",
        "\\underbrace{\n",
        "\\left[\\begin{array}{cc}\n",
        "MgL & 0 \\\\ 0 & 0\n",
        "\\end{array}\n",
        "\\right]}_{M_K}\n",
        "\\left\\{\n",
        "\\begin{array}{c}\n",
        "\\theta \\\\ x\n",
        "\\end{array}\n",
        "\\right\\}\n",
        "=\n",
        "\\left\\{\n",
        "\\begin{array}{c}\n",
        "0 \\\\ f(t)\n",
        "\\end{array}\n",
        "\\right\\}\n",
        "$$\n",
        "\n",
        "Assim a matriz do sistema fica na forma:\n",
        "$$\n",
        "[A] =\n",
        "\\left[\n",
        "\\begin{array}{cc}\n",
        "[0]_{2\\times 2} & [I]_{2\\times 2} \\\\\n",
        "-[M_I]^{-1}[M_K] & [0]_{2\\times 2}\n",
        "\\end{array}\n",
        "\\right]\n",
        "$$\n",
        "\n",
        "Já a matriz de entrada é escrita na forma:\n",
        "\n",
        "$$\n",
        "[B] = \\left[\n",
        "\\begin{array}{c}\n",
        "[0]_{2\\times 2} \\\\ [M_I]^{-1}\n",
        "\\end{array}\n",
        "\\right]\n",
        "\\left[\n",
        "\\begin{array}{c}\n",
        "0 \\\\ 1\n",
        "\\end{array}\n",
        "\\right] f(t)\n",
        "=\n",
        "\\left[\n",
        "\\begin{array}{c}\n",
        "0 \\\\ 0 \\\\ [M_I]^{-1} \\left[\n",
        "\\begin{array}{c}\n",
        "0 \\\\ 1\n",
        "\\end{array}\n",
        "\\right]\n",
        "\\end{array}\n",
        "\\right]_{4\\times 1}\n",
        "f(t)\n",
        "$$\n",
        "\n",
        "A saída deste sistema deve ser apenas a função $x(t)$, portanto a matriz de saída vale:\n",
        "\n",
        "$$\n",
        "[C] = [0 \\,\\, 1 \\,\\,  0 \\,\\, 0]\n",
        "$$\n",
        "\n",
        "E a de retroalimentação vale:\n",
        "$$\n",
        "[D] = 0\n",
        "$$\n",
        "\n",
        "Assim, o sistema já possui as 4 matrizes da forma de estudo. Assim, é possível representá-lo programaticamente:"
      ],
      "metadata": {
        "id": "l7P6xQ7mU8wv"
      }
    },
    {
      "cell_type": "code",
      "source": [
        "# Dados do sistema:\n",
        "\n",
        "M = 200   # kg\n",
        "m = 10    # kg\n",
        "L = 10    # m\n",
        "Ig = 3    # kg.m²\n",
        "g = 9.81  # m/s²\n",
        "\n",
        "# Dados do cabo ou controlador:\n",
        "\n",
        "kc = 100\n",
        "cc = 10\n",
        "\n"
      ],
      "metadata": {
        "id": "eqyYoZmNaccW"
      },
      "execution_count": null,
      "outputs": []
    },
    {
      "cell_type": "code",
      "execution_count": null,
      "metadata": {
        "id": "qnz5oBnoRIcX"
      },
      "outputs": [],
      "source": [
        "import numpy as np\n",
        "import importlib\n",
        "spec = importlib.util.find_spec('control')\n",
        "if spec is None:\n",
        "    !pip install control\n",
        "\n",
        "from control import StateSpace, tf\n",
        "\n",
        "MI = np.asarray([[Ig+M*L**2, M*L], [M*L, M+m]])\n",
        "MK = np.asarray([[M*g*L, 0], [0, 0]])\n",
        "\n",
        "A = np.append(np.append(np.zeros((2, 2)), np.eye(2), 1),\n",
        "              np.append(-np.linalg.inv(MI) @ MK, np.zeros((2, 2)), 1),\n",
        "              0)\n",
        "\n",
        "B = np.append(np.zeros((2, 1)), np.linalg.inv(MI) @ np.asarray([[0], [1]]), 0)\n",
        "\n",
        "C = np.asarray([[0, 1, 0, 0]])\n",
        "\n",
        "D = np.asarray([[0]])\n",
        "\n",
        "sys = StateSpace(A, B, C, D)"
      ]
    },
    {
      "cell_type": "markdown",
      "source": [
        "Podemos controlar este sistema com um controlador PD com função de transferência:\n",
        "\n",
        "$$\n",
        "K_s(s) = c_c s + k_c\n",
        "$$\n",
        "\n",
        "Agora basta multiplicar a planta do controlador pela planta do sistema e fechar a malha, conforme vimos na aula anterior:"
      ],
      "metadata": {
        "id": "hvN0Tj9rcZZv"
      }
    },
    {
      "cell_type": "code",
      "source": [
        "from control import feedback\n",
        "\n",
        "s = tf('s')\n",
        "\n",
        "Ks = kc + cc*s\n",
        "\n",
        "print(Ks)\n",
        "\n",
        "Hs = tf(sys)\n",
        "\n",
        "# Removendo coeficientes fruto de erro numérico\n",
        "aux = list(Hs.num[0][0])\n",
        "aux = [el if np.abs(el) > 1e-6 else 0 for el in aux]\n",
        "while aux[0] == 0:\n",
        "  aux.pop(0)\n",
        "Hs.num = [[np.asarray(aux)]]\n",
        "\n",
        "# Sistema em Malha Fechada\n",
        "SMF = feedback(Ks*Hs, 1)"
      ],
      "metadata": {
        "colab": {
          "base_uri": "https://localhost:8080/"
        },
        "id": "MQpjX7kTdDZu",
        "outputId": "22ead2eb-99c8-4253-c2be-a9903cda0fad"
      },
      "execution_count": null,
      "outputs": [
        {
          "output_type": "stream",
          "name": "stdout",
          "text": [
            "<TransferFunction>: sys[341]\n",
            "Inputs (1): ['u[0]']\n",
            "Outputs (1): ['y[0]']\n",
            "\n",
            "\n",
            "10 s + 100\n",
            "----------\n",
            "    1\n",
            "\n"
          ]
        }
      ]
    },
    {
      "cell_type": "markdown",
      "source": [
        "Podemos verificar que são os mesmos sistemas através da comparação dos polos e zeros:\n"
      ],
      "metadata": {
        "id": "Upb_eggAfpxm"
      }
    },
    {
      "cell_type": "code",
      "source": [
        "# Do sistema em que aplicamos a estratégia de controle manuamente:\n",
        "\n",
        "MCii = np.asarray([[0, 0], [0, cc]])\n",
        "MKii = np.asarray([[M*g*L, 0], [0, kc]])\n",
        "\n",
        "# Para o cálculo dos autovalores, a matriz A (no caso, Am) é suficiente.\n",
        "Am = np.append(np.append(np.zeros((2, 2)),\n",
        "                         np.eye(2), 1),\n",
        "               np.append(-np.linalg.inv(MI) @ MKii,\n",
        "                         -np.linalg.inv(MI) @ MCii, 1),\n",
        "               0)\n",
        "\n",
        "# Sistema com Malha Fechada manualmente\n",
        "SMFm = tf(StateSpace(Am, B, C, D))\n",
        "\n",
        "# Removendo coeficientes fruto de erro numérico\n",
        "aux = list(SMFm.num[0][0])\n",
        "aux = [el if np.abs(el) > 1e-6 else 0 for el in aux]\n",
        "while aux[0] == 0:\n",
        "  aux.pop(0)\n",
        "SMFm.num = [[np.asarray(aux)]]\n",
        "\n",
        "from control import damp\n",
        "\n",
        "print('Autovalores do sistema em malha fechada original:')\n",
        "_ = damp(SMF)\n",
        "print('\\n','Autovalores do sistema com a malha fechada manualmente:',sep='')\n",
        "_ = damp(SMFm)\n"
      ],
      "metadata": {
        "id": "igJiRPhYgXbO",
        "colab": {
          "base_uri": "https://localhost:8080/"
        },
        "outputId": "8e70c7a5-2a00-4c02-b689-1608829645ad"
      },
      "execution_count": null,
      "outputs": [
        {
          "output_type": "stream",
          "name": "stdout",
          "text": [
            "Autovalores do sistema em malha fechada original:\n",
            "    Eigenvalue (pole)       Damping     Frequency\n",
            "   -0.4875     +5.47j       0.08877         5.492\n",
            "   -0.4875     -5.47j       0.08877         5.492\n",
            "  -0.01097   +0.5693j       0.01927        0.5694\n",
            "  -0.01097   -0.5693j       0.01927        0.5694\n",
            "\n",
            "Autovalores do sistema com a malha fechada manualmente:\n",
            "    Eigenvalue (pole)       Damping     Frequency\n",
            "   -0.4875     +5.47j       0.08877         5.492\n",
            "   -0.4875     -5.47j       0.08877         5.492\n",
            "  -0.01097   +0.5693j       0.01927        0.5694\n",
            "  -0.01097   -0.5693j       0.01927        0.5694\n"
          ]
        }
      ]
    },
    {
      "cell_type": "markdown",
      "source": [
        "Nosso objetivo é ajustar os valores de $k_c$ e $c_c$ para fazer com que o sistema chegue o mais próximo possível do criticamente amortecido em pelo menos um dos modos de vibração."
      ],
      "metadata": {
        "id": "gWKz-UjX5umM"
      }
    }
  ]
}